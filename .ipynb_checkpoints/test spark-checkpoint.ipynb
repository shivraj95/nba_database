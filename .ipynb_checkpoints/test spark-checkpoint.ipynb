{
 "cells": [
  {
   "cell_type": "code",
   "execution_count": 2,
   "metadata": {
    "collapsed": false
   },
   "outputs": [],
   "source": [
    "import pyspark\n",
    "import sqlalchemy\n",
    "from scrape import helper\n",
    "import requests"
   ]
  },
  {
   "cell_type": "code",
   "execution_count": null,
   "metadata": {
    "collapsed": true
   },
   "outputs": [],
   "source": [
    "url = \"http://stats.nba.com/js/data/playtype/team_Transition\"\n"
   ]
  },
  {
   "cell_type": "code",
   "execution_count": null,
   "metadata": {
    "collapsed": true
   },
   "outputs": [],
   "source": [
    "# setting up the jdbc url and parameters\n",
    "hostname = \"nbabigdata.cfshbsp4rjoc.us-east-2.rds.amazonaws.com\"\n",
    "dbname = \"nbaData\"\n",
    "jdbcPort = 3306"
   ]
  },
  {
   "cell_type": "code",
   "execution_count": null,
   "metadata": {
    "collapsed": true
   },
   "outputs": [],
   "source": [
    "jdbc_url = \"jdbc:mysql://{0}:{1}/{2}\".format(hostname, jdbcPort, dbname)\n",
    "# For SQLServer, pass in the \"driver\" option\n",
    "# driverClass = \"com.microsoft.sqlserver.jdbc.SQLServerDriver\"\n",
    "# Add \"driver\" : driverClass\n",
    "connectionProperties = {\n",
    "  \"user\" : shivraj_nba,\n",
    "  \"password\" : Karanpur1!\n",
    "}\n",
    "\n",
    "pushdown_query = \"(select * from employees where emp_no < 10008) emp_alias\"\n",
    "df = spark.read.jdbc(url=jdbc_url, dbtable=pushdown_query, properties=connectionProperties)\n",
    "display(df)"
   ]
  },
  {
   "cell_type": "code",
   "execution_count": 1,
   "metadata": {
    "collapsed": false
   },
   "outputs": [
    {
     "name": "stdout",
     "output_type": "stream",
     "text": [
      "['', '/usr/local/spark/python', '/Users/shivrajgill/Documents/nba_database', '/anaconda/lib/python36.zip', '/anaconda/lib/python3.6', '/anaconda/lib/python3.6/lib-dynload', '/anaconda/lib/python3.6/site-packages', '/anaconda/lib/python3.6/site-packages/Sphinx-1.5.1-py3.6.egg', '/anaconda/lib/python3.6/site-packages/aeosa', '/anaconda/lib/python3.6/site-packages/setuptools-27.2.0-py3.6.egg', '/anaconda/lib/python3.6/site-packages/IPython/extensions', '/Users/shivrajgill/.ipython']\n"
     ]
    }
   ],
   "source": [
    "import sys\n",
    "print(sys.path)"
   ]
  },
  {
   "cell_type": "code",
   "execution_count": null,
   "metadata": {
    "collapsed": true
   },
   "outputs": [],
   "source": []
  }
 ],
 "metadata": {
  "kernelspec": {
   "display_name": "Python 3",
   "language": "python",
   "name": "python3"
  },
  "language_info": {
   "codemirror_mode": {
    "name": "ipython",
    "version": 3
   },
   "file_extension": ".py",
   "mimetype": "text/x-python",
   "name": "python",
   "nbconvert_exporter": "python",
   "pygments_lexer": "ipython3",
   "version": "3.6.0"
  }
 },
 "nbformat": 4,
 "nbformat_minor": 2
}
